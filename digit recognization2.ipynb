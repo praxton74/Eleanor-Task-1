{
 "cells": [
  {
   "cell_type": "code",
   "execution_count": 4,
   "id": "061962c7",
   "metadata": {},
   "outputs": [
    {
     "name": "stdout",
     "output_type": "stream",
     "text": [
      "2.10.0\n"
     ]
    }
   ],
   "source": [
    "import tensorflow as tf\n",
    "print(tf.__version__)"
   ]
  },
  {
   "cell_type": "code",
   "execution_count": 5,
   "id": "59380bab",
   "metadata": {},
   "outputs": [],
   "source": [
    "import numpy as np\n",
    "import matplotlib\n",
    "import matplotlib.pyplot as plot"
   ]
  },
  {
   "cell_type": "code",
   "execution_count": 6,
   "id": "fd17c25c",
   "metadata": {},
   "outputs": [],
   "source": [
    "import os\n",
    "os.environ['TF_CPP_MIN_LOG_LEVEL']='3'\n",
    "import warnings\n",
    "warnings.filterwarnings('ignore')\n",
    "from tensorflow.python.util import deprecation\n",
    "deprecation._PRINT_DEPRECATION_WARNINGS = False"
   ]
  },
  {
   "cell_type": "code",
   "execution_count": 7,
   "id": "09398f78",
   "metadata": {},
   "outputs": [],
   "source": [
    "import keras\n",
    "import numpy as np\n",
    "import matplotlib \n",
    "from matplotlib import pyplot as plot\n",
    "from keras.utils import np_utils"
   ]
  },
  {
   "cell_type": "code",
   "execution_count": 8,
   "id": "30c032eb",
   "metadata": {},
   "outputs": [],
   "source": [
    "from keras.datasets import mnist"
   ]
  },
  {
   "cell_type": "code",
   "execution_count": 9,
   "id": "c362c355",
   "metadata": {},
   "outputs": [],
   "source": [
    "import keras\n",
    "from keras import datasets\n",
    "from keras.models import Sequential\n",
    "from keras.layers import Dense, Flatten\n",
    "from keras.layers import Dropout\n",
    "from keras.layers import Flatten\n",
    "from keras.layers import Conv2D\n",
    "from keras.layers import MaxPooling2D\n",
    "from keras import backend as K\n",
    "#  to split the data of training and testing sets\n",
    "(x_train, y_train), (x_test, y_test) = mnist.load_data()"
   ]
  },
  {
   "cell_type": "code",
   "execution_count": 10,
   "id": "a03ae978",
   "metadata": {},
   "outputs": [],
   "source": [
    "from keras.models import Sequential \n",
    "from keras.layers import Activation, Dense, Flatten "
   ]
  },
  {
   "cell_type": "code",
   "execution_count": 11,
   "id": "c7d671c9",
   "metadata": {},
   "outputs": [],
   "source": [
    "model = Sequential()"
   ]
  },
  {
   "cell_type": "code",
   "execution_count": 12,
   "id": "c2ad8fd9",
   "metadata": {},
   "outputs": [],
   "source": [
    "model.add(Dense(512, input_shape=(784,)))"
   ]
  },
  {
   "cell_type": "code",
   "execution_count": 13,
   "id": "17ebc76d",
   "metadata": {},
   "outputs": [],
   "source": [
    "model.add(Activation('relu'))"
   ]
  },
  {
   "cell_type": "code",
   "execution_count": 14,
   "id": "44eeb9f3",
   "metadata": {},
   "outputs": [],
   "source": [
    "model.add(Dropout(0.2))"
   ]
  },
  {
   "cell_type": "code",
   "execution_count": 15,
   "id": "bdaf8240",
   "metadata": {},
   "outputs": [],
   "source": [
    "model.add(Dense(512))\n",
    "model.add(Activation('relu'))\n",
    "model.add(Dropout(0.2))"
   ]
  },
  {
   "cell_type": "code",
   "execution_count": 16,
   "id": "f8e5ed66",
   "metadata": {},
   "outputs": [],
   "source": [
    "model.add(Dense(10))"
   ]
  },
  {
   "cell_type": "code",
   "execution_count": 17,
   "id": "479af2d8",
   "metadata": {},
   "outputs": [],
   "source": [
    "model.add(Activation('softmax'))"
   ]
  },
  {
   "cell_type": "code",
   "execution_count": 18,
   "id": "fc9fb391",
   "metadata": {},
   "outputs": [],
   "source": [
    "model.compile(loss='categorical_crossentropy', metrics=['accuracy'], optimizer='adam')"
   ]
  },
  {
   "cell_type": "code",
   "execution_count": 19,
   "id": "dd4ddc2a",
   "metadata": {},
   "outputs": [
    {
     "name": "stdout",
     "output_type": "stream",
     "text": [
      "loaded data\n"
     ]
    }
   ],
   "source": [
    "(X_train, y_train), (X_test, y_test) = mnist.load_data()\n",
    "print('loaded data')"
   ]
  },
  {
   "cell_type": "code",
   "execution_count": 20,
   "id": "6ab9a672",
   "metadata": {},
   "outputs": [
    {
     "data": {
      "image/png": "[encoded data removed]",
      "text/plain": [
       "<Figure size 432x288 with 10 Axes>"
      ]
     },
     "metadata": {},
     "output_type": "display_data"
    }
   ],
   "source": [
    "for i in range(10):\n",
    "    plot.subplot(3,5,i+1)\n",
    "    plot.tight_layout()\n",
    "    plot.imshow(X_train[i], cmap='gray', interpolation='none')\n",
    "    plot.title(\"Digit: {}\".format(y_train[i]))\n",
    "    plot.xticks([])\n",
    "    plot.yticks([])"
   ]
  },
  {
   "cell_type": "code",
   "execution_count": 21,
   "id": "82fdc64a",
   "metadata": {},
   "outputs": [],
   "source": [
    "X_train = X_train.reshape(60000, 784)\n",
    "X_test = X_test.reshape(10000, 784)"
   ]
  },
  {
   "cell_type": "code",
   "execution_count": 22,
   "id": "73313683",
   "metadata": {},
   "outputs": [],
   "source": [
    "X_train = X_train.astype('float32')\n",
    "X_test = X_test.astype('float32')\n",
    "X_train /= 255\n",
    "X_test /= 255"
   ]
  },
  {
   "cell_type": "code",
   "execution_count": 23,
   "id": "60c2750c",
   "metadata": {},
   "outputs": [
    {
     "data": {
      "text/plain": [
       "Text(0.5, 1.0, 'Digit: 5')"
      ]
     },
     "execution_count": 23,
     "metadata": {},
     "output_type": "execute_result"
    },
    {
     "data": {
      "image/png": "[encoded data removed]",
      "text/plain": [
       "<Figure size 432x288 with 1 Axes>"
      ]
     },
     "metadata": {
      "needs_background": "light"
     },
     "output_type": "display_data"
    }
   ],
   "source": [
    "plot.hist(X_train[0])\n",
    "plot.title(\"Digit: {}\".format(y_train[0]))"
   ]
  },
  {
   "cell_type": "code",
   "execution_count": 24,
   "id": "2b0747f7",
   "metadata": {},
   "outputs": [
    {
     "data": {
      "text/plain": [
       "Text(0.5, 1.0, 'Digit: 0')"
      ]
     },
     "execution_count": 24,
     "metadata": {},
     "output_type": "execute_result"
    },
    {
     "data": {
      "image/png": "[encoded data removed]",
      "text/plain": [
       "<Figure size 432x288 with 1 Axes>"
      ]
     },
     "metadata": {
      "needs_background": "light"
     },
     "output_type": "display_data"
    }
   ],
   "source": [
    "plot.hist(X_train[1])\n",
    "plot.title(\"Digit: {}\".format(y_train[1]))"
   ]
  },
  {
   "cell_type": "code",
   "execution_count": 25,
   "id": "50d044ba",
   "metadata": {},
   "outputs": [
    {
     "data": {
      "text/plain": [
       "Text(0.5, 1.0, 'Digit: 4')"
      ]
     },
     "execution_count": 25,
     "metadata": {},
     "output_type": "execute_result"
    },
    {
     "data": {
      "image/png": "[encoded data removed]",
      "text/plain": [
       "<Figure size 432x288 with 1 Axes>"
      ]
     },
     "metadata": {
      "needs_background": "light"
     },
     "output_type": "display_data"
    }
   ],
   "source": [
    "plot.hist(X_train[2])\n",
    "plot.title(\"Digit: {}\".format(y_train[2]))"
   ]
  },
  {
   "cell_type": "code",
   "execution_count": 26,
   "id": "6c15daa1",
   "metadata": {},
   "outputs": [
    {
     "name": "stdout",
     "output_type": "stream",
     "text": [
      "(array([0, 1, 2, 3, 4, 5, 6, 7, 8, 9], dtype=uint8), array([5923, 6742, 5958, 6131, 5842, 5421, 5918, 6265, 5851, 5949],\n",
      "      dtype=int64))\n"
     ]
    }
   ],
   "source": [
    "print(np.unique(y_train, return_counts=True))"
   ]
  },
  {
   "cell_type": "code",
   "execution_count": 28,
   "id": "2a6a9365",
   "metadata": {},
   "outputs": [],
   "source": [
    "n_classes = 10\n",
    "Y_train = np_utils.to_categorical(y_train, n_classes)"
   ]
  },
  {
   "cell_type": "code",
   "execution_count": 29,
   "id": "d597641f",
   "metadata": {},
   "outputs": [
    {
     "name": "stdout",
     "output_type": "stream",
     "text": [
      "[0. 0. 0. 0. 0. 1. 0. 0. 0. 0.]\n",
      "[1. 0. 0. 0. 0. 0. 0. 0. 0. 0.]\n",
      "[0. 0. 0. 0. 1. 0. 0. 0. 0. 0.]\n",
      "[0. 1. 0. 0. 0. 0. 0. 0. 0. 0.]\n",
      "[0. 0. 0. 0. 0. 0. 0. 0. 0. 1.]\n"
     ]
    }
   ],
   "source": [
    "for i in range(5):\n",
    "   print (Y_train[i])"
   ]
  },
  {
   "cell_type": "code",
   "execution_count": 30,
   "id": "062e2dd4",
   "metadata": {},
   "outputs": [],
   "source": [
    "Y_test = np_utils.to_categorical(y_test, n_classes)"
   ]
  },
  {
   "cell_type": "code",
   "execution_count": 31,
   "id": "24398a93",
   "metadata": {},
   "outputs": [
    {
     "name": "stdout",
     "output_type": "stream",
     "text": [
      "Epoch 1/20\n",
      "469/469 - 10s - loss: 0.2491 - accuracy: 0.9253 - val_loss: 0.1094 - val_accuracy: 0.9655 - 10s/epoch - 22ms/step\n",
      "Epoch 2/20\n",
      "469/469 - 8s - loss: 0.1022 - accuracy: 0.9689 - val_loss: 0.0945 - val_accuracy: 0.9705 - 8s/epoch - 18ms/step\n",
      "Epoch 3/20\n",
      "469/469 - 8s - loss: 0.0693 - accuracy: 0.9785 - val_loss: 0.0713 - val_accuracy: 0.9767 - 8s/epoch - 16ms/step\n",
      "Epoch 4/20\n",
      "469/469 - 8s - loss: 0.0561 - accuracy: 0.9820 - val_loss: 0.0640 - val_accuracy: 0.9795 - 8s/epoch - 16ms/step\n",
      "Epoch 5/20\n",
      "469/469 - 8s - loss: 0.0450 - accuracy: 0.9855 - val_loss: 0.0664 - val_accuracy: 0.9808 - 8s/epoch - 16ms/step\n",
      "Epoch 6/20\n",
      "469/469 - 7s - loss: 0.0380 - accuracy: 0.9873 - val_loss: 0.0657 - val_accuracy: 0.9804 - 7s/epoch - 16ms/step\n",
      "Epoch 7/20\n",
      "469/469 - 7s - loss: 0.0332 - accuracy: 0.9890 - val_loss: 0.0692 - val_accuracy: 0.9808 - 7s/epoch - 16ms/step\n",
      "Epoch 8/20\n",
      "469/469 - 8s - loss: 0.0306 - accuracy: 0.9898 - val_loss: 0.0679 - val_accuracy: 0.9804 - 8s/epoch - 16ms/step\n",
      "Epoch 9/20\n",
      "469/469 - 8s - loss: 0.0297 - accuracy: 0.9905 - val_loss: 0.0657 - val_accuracy: 0.9829 - 8s/epoch - 17ms/step\n",
      "Epoch 10/20\n",
      "469/469 - 8s - loss: 0.0239 - accuracy: 0.9922 - val_loss: 0.0685 - val_accuracy: 0.9824 - 8s/epoch - 17ms/step\n",
      "Epoch 11/20\n",
      "469/469 - 8s - loss: 0.0208 - accuracy: 0.9930 - val_loss: 0.0765 - val_accuracy: 0.9815 - 8s/epoch - 17ms/step\n",
      "Epoch 12/20\n",
      "469/469 - 8s - loss: 0.0227 - accuracy: 0.9927 - val_loss: 0.0837 - val_accuracy: 0.9810 - 8s/epoch - 16ms/step\n",
      "Epoch 13/20\n",
      "469/469 - 8s - loss: 0.0222 - accuracy: 0.9929 - val_loss: 0.0828 - val_accuracy: 0.9817 - 8s/epoch - 17ms/step\n",
      "Epoch 14/20\n",
      "469/469 - 8s - loss: 0.0171 - accuracy: 0.9942 - val_loss: 0.0728 - val_accuracy: 0.9850 - 8s/epoch - 17ms/step\n",
      "Epoch 15/20\n",
      "469/469 - 8s - loss: 0.0192 - accuracy: 0.9938 - val_loss: 0.0826 - val_accuracy: 0.9819 - 8s/epoch - 17ms/step\n",
      "Epoch 16/20\n",
      "469/469 - 8s - loss: 0.0180 - accuracy: 0.9941 - val_loss: 0.0730 - val_accuracy: 0.9835 - 8s/epoch - 17ms/step\n",
      "Epoch 17/20\n",
      "469/469 - 8s - loss: 0.0161 - accuracy: 0.9944 - val_loss: 0.0710 - val_accuracy: 0.9845 - 8s/epoch - 17ms/step\n",
      "Epoch 18/20\n",
      "469/469 - 8s - loss: 0.0145 - accuracy: 0.9955 - val_loss: 0.0818 - val_accuracy: 0.9836 - 8s/epoch - 17ms/step\n",
      "Epoch 19/20\n",
      "469/469 - 8s - loss: 0.0161 - accuracy: 0.9943 - val_loss: 0.0854 - val_accuracy: 0.9824 - 8s/epoch - 17ms/step\n",
      "Epoch 20/20\n",
      "469/469 - 8s - loss: 0.0137 - accuracy: 0.9952 - val_loss: 0.0785 - val_accuracy: 0.9839 - 8s/epoch - 18ms/step\n"
     ]
    }
   ],
   "source": [
    "history = model.fit(X_train, Y_train,\n",
    "   batch_size=128, epochs=20,\n",
    "   verbose=2,\n",
    "   validation_data=(X_test, Y_test))"
   ]
  },
  {
   "cell_type": "code",
   "execution_count": 32,
   "id": "fc204354",
   "metadata": {},
   "outputs": [
    {
     "name": "stdout",
     "output_type": "stream",
     "text": [
      "313/313 - 2s - loss: 0.0785 - accuracy: 0.9839 - 2s/epoch - 6ms/step\n"
     ]
    }
   ],
   "source": [
    "loss_and_metrics = model.evaluate(X_test, Y_test, verbose=2)\n"
   ]
  },
  {
   "cell_type": "code",
   "execution_count": 33,
   "id": "37a949bb",
   "metadata": {},
   "outputs": [
    {
     "name": "stdout",
     "output_type": "stream",
     "text": [
      "313/313 - 2s - loss: 0.0785 - accuracy: 0.9839 - 2s/epoch - 6ms/step\n"
     ]
    }
   ],
   "source": [
    "loss_and_metrics = model.evaluate(X_test, Y_test, verbose=2)"
   ]
  },
  {
   "cell_type": "code",
   "execution_count": 34,
   "id": "354e5059",
   "metadata": {},
   "outputs": [
    {
     "name": "stdout",
     "output_type": "stream",
     "text": [
      "Test Loss 0.07846597582101822\n",
      "Test Accuracy 0.9839000105857849\n"
     ]
    }
   ],
   "source": [
    "print(\"Test Loss\", loss_and_metrics[0])\n",
    "print(\"Test Accuracy\", loss_and_metrics[1])\n"
   ]
  },
  {
   "cell_type": "code",
   "execution_count": 35,
   "id": "ac72969d",
   "metadata": {},
   "outputs": [
    {
     "data": {
      "text/plain": [
       "<matplotlib.legend.Legend at 0x146c4a5eca0>"
      ]
     },
     "execution_count": 35,
     "metadata": {},
     "output_type": "execute_result"
    },
    {
     "data": {
      "image/png": "[encoded data removed]",
      "text/plain": [
       "<Figure size 432x288 with 1 Axes>"
      ]
     },
     "metadata": {
      "needs_background": "light"
     },
     "output_type": "display_data"
    }
   ],
   "source": [
    "plot.subplot(2,1,1)\n",
    "plot.plot(history.history['accuracy'])\n",
    "plot.plot(history.history['val_accuracy'])\n",
    "plot.title('model accuracy')\n",
    "plot.ylabel('accuracy')\n",
    "plot.xlabel('epoch')\n",
    "plot.legend(['train', 'test'], loc='lower right')\n"
   ]
  },
  {
   "cell_type": "code",
   "execution_count": 36,
   "id": "0a0bca0d",
   "metadata": {},
   "outputs": [
    {
     "data": {
      "text/plain": [
       "<matplotlib.legend.Legend at 0x146c49ec430>"
      ]
     },
     "execution_count": 36,
     "metadata": {},
     "output_type": "execute_result"
    },
    {
     "data": {
      "image/png": "[encoded data removed]",
      "text/plain": [
       "<Figure size 432x288 with 1 Axes>"
      ]
     },
     "metadata": {
      "needs_background": "light"
     },
     "output_type": "display_data"
    }
   ],
   "source": [
    "plot.subplot(2,1,2)\n",
    "plot.plot(history.history['loss'])\n",
    "plot.plot(history.history['val_loss'])\n",
    "plot.title('model loss')\n",
    "plot.ylabel('loss')\n",
    "plot.xlabel('epoch')\n",
    "plot.legend(['train', 'test'], loc='upper right')"
   ]
  },
  {
   "cell_type": "code",
   "execution_count": 38,
   "id": "bccb4377",
   "metadata": {},
   "outputs": [
    {
     "name": "stdout",
     "output_type": "stream",
     "text": [
      "313/313 [==============================] - 2s 6ms/step\n"
     ]
    }
   ],
   "source": [
    "predictions = (model.predict(X_test) > 0.5).astype(\"int32\")"
   ]
  },
  {
   "cell_type": "code",
   "execution_count": 39,
   "id": "5ef97233",
   "metadata": {},
   "outputs": [
    {
     "name": "stdout",
     "output_type": "stream",
     "text": [
      "2.10.0\n"
     ]
    }
   ],
   "source": [
    "from tensorflow import keras\n",
    "print(keras.__version__)"
   ]
  },
  {
   "cell_type": "code",
   "execution_count": 40,
   "id": "5346bf7c",
   "metadata": {},
   "outputs": [],
   "source": [
    "correct_predictions = np.nonzero(predictions == y_test)[0]\n",
    "incorrect_predictions = np.nonzero(predictions != y_test)[0]"
   ]
  },
  {
   "cell_type": "code",
   "execution_count": 41,
   "id": "bb9c15fd",
   "metadata": {},
   "outputs": [
    {
     "name": "stdout",
     "output_type": "stream",
     "text": [
      "0  classified correctly\n",
      "1  classified incorrectly\n"
     ]
    }
   ],
   "source": [
    "print(len(correct_predictions),\" classified correctly\")\n",
    "print(len(incorrect_predictions),\" classified incorrectly\")"
   ]
  },
  {
   "cell_type": "code",
   "execution_count": null,
   "id": "4b762303",
   "metadata": {},
   "outputs": [],
   "source": []
  }
 ],
 "metadata": {
  "kernelspec": {
   "display_name": "Python 3 (ipykernel)",
   "language": "python",
   "name": "python3"
  },
  "language_info": {
   "codemirror_mode": {
    "name": "ipython",
    "version": 3
   },
   "file_extension": ".py",
   "mimetype": "text/x-python",
   "name": "python",
   "nbconvert_exporter": "python",
   "pygments_lexer": "ipython3",
   "version": "3.9.7"
  }
 },
 "nbformat": 4,
 "nbformat_minor": 5
}
